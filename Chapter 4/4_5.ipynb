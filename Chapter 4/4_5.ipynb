{
 "cells": [
  {
   "cell_type": "markdown",
   "metadata": {},
   "source": [
    "# Exercise 5\n",
    "\n",
    "## a.\n",
    "\n",
    "QDA will perform better on the training set because it will have a closer fit due to more flexility. But LDA will do better on the test set because it will closer to the true shape of the data.\n",
    "\n",
    "## b.\n",
    "\n",
    "QDA will perform better on the training set as explained before, but this time also on the test set because of the true nature of the data that have a non linear decision boundary.\n",
    "\n",
    "## c.\n",
    "\n",
    "If n increases we will have more statistical power in our analysis.QDA is expected to get a closer fit to the data with more observations added.\n",
    "\n",
    "## d.\n",
    "\n",
    "False. We might get better results with QDA just because of overfitting the noise, not becuase it will model the linear decision boundary."
   ]
  }
 ],
 "metadata": {
  "kernelspec": {
   "display_name": "Python 3",
   "language": "python",
   "name": "python3"
  },
  "language_info": {
   "codemirror_mode": {
    "name": "ipython",
    "version": 3
   },
   "file_extension": ".py",
   "mimetype": "text/x-python",
   "name": "python",
   "nbconvert_exporter": "python",
   "pygments_lexer": "ipython3",
   "version": "3.9.6"
  },
  "orig_nbformat": 4
 },
 "nbformat": 4,
 "nbformat_minor": 2
}
