{
 "cells": [
  {
   "cell_type": "markdown",
   "metadata": {},
   "source": [
    "# Exercise 4\n",
    "\n",
    "## a\n",
    "\n",
    "X is uniformely distributed $X \\sim \\mathcal{U}(0,1)$ , so taking a 10% interval of the distribution is equivalent so drawing 10% of the population.\n",
    "\n",
    "## b.\n",
    "\n",
    "The overall space of probabily is $1x1=1$. But if we take a 10% interval from both uniform variables, then we get a space that cover $0.1*0.1=0.01=1\\%$ of the overall probability space."
   ]
  }
 ],
 "metadata": {
  "kernelspec": {
   "display_name": "Python 3",
   "language": "python",
   "name": "python3"
  },
  "language_info": {
   "codemirror_mode": {
    "name": "ipython",
    "version": 3
   },
   "file_extension": ".py",
   "mimetype": "text/x-python",
   "name": "python",
   "nbconvert_exporter": "python",
   "pygments_lexer": "ipython3",
   "version": "3.9.6"
  },
  "orig_nbformat": 4
 },
 "nbformat": 4,
 "nbformat_minor": 2
}
