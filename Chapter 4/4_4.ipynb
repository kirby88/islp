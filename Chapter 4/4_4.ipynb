{
 "cells": [
  {
   "cell_type": "markdown",
   "metadata": {},
   "source": [
    "# Exercise 4\n",
    "\n",
    "## a\n",
    "\n",
    "X is uniformely distributed $X \\sim \\mathcal{U}(0,1)$ , so taking a 10% interval of the distribution is equivalent so drawing 10% of the population.\n",
    "\n",
    "## b.\n",
    "\n",
    "The overall space of probabily is 1x1=1. But if we take a 10% interval from both uniform variables, then we get a space that cover $0.1*0.1=0.01=1\\%$ of the overall probability space.\n",
    "\n",
    "## c.\n",
    "\n",
    "It will be $0.1*0.1*...*0.1$ a 100 times, so $0.1^{100}$\n",
    "\n",
    "## d.\n",
    "\n",
    "The bigger p, the smaller the area around a specific point. So if all variables are uniformely distributed, chances are that there will be very little observations in the area around.\n",
    "\n",
    "## e.\n",
    "\n",
    "The length of the side of the hypercube should be the same, no matter how many dimensions there are. It should be 0.1\n"
   ]
  }
 ],
 "metadata": {
  "kernelspec": {
   "display_name": "Python 3",
   "language": "python",
   "name": "python3"
  },
  "language_info": {
   "codemirror_mode": {
    "name": "ipython",
    "version": 3
   },
   "file_extension": ".py",
   "mimetype": "text/x-python",
   "name": "python",
   "nbconvert_exporter": "python",
   "pygments_lexer": "ipython3",
   "version": "3.9.6"
  },
  "orig_nbformat": 4
 },
 "nbformat": 4,
 "nbformat_minor": 2
}
