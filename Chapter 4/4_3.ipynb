{
 "cells": [
  {
   "cell_type": "markdown",
   "metadata": {},
   "source": [
    "From [4.15](https://hastie.su.domains/ISLP/ISLP_website.pdf#%5B%7B%22num%22%3A1475%2C%22gen%22%3A0%7D%2C%7B%22name%22%3A%22XYZ%22%7D%2C219.4%2C677.89%2Cnull%5D) we know that\n",
    "\n",
    "$$\n",
    "\\displaystyle p(Y=k | X =x) = \\frac{\\pi_{k}f_k(x)}{\\sum_{l=1}^{K}\\pi_{l}f_l(x)}\n",
    "$$\n",
    "\n",
    "If we plug in the definition of the density function for the one-dimensional normal distribution is given in [4.16](https://hastie.su.domains/ISLP/ISLP_website.pdf#%5B%7B%22num%22%3A1475%2C%22gen%22%3A0%7D%2C%7B%22name%22%3A%22XYZ%22%7D%2C208.58%2C272.04%2Cnull%5D) we get\n",
    "\n",
    "$$\n",
    "\\displaystyle p(x) = \\frac{\\pi_{k}\\frac{1}{\\sqrt{2\\pi}\\sigma_k}\\exp(-\\frac{1}{2\\sigma_k^2}(x-\\mu_{k})^2)}{\\sum_{l=1}^{K}\\pi_{l}\\frac{1}{\\sqrt{2\\pi}\\sigma_l}\\exp(-\\frac{1}{2\\sigma_l^2}(x-\\mu_{l})^2)}\n",
    "$$\n",
    "\n",
    "Again here, ther Bayes classifier will attribute a class $k$ to $x$ for which the biggest value of $p(x)$ amongst all classes. So we will try to maximize the value of $p(x)$.\n",
    "\n",
    "Again, the denominator is common to all classes, so the difference will come from the numerator. So like in exercise 4.2, we will take the $\\log$ of $p(x)$ (but this time, we don't assume that $\\sigma_1 = \\sigma_2 = ... = \\sigma_k$, each classes have their own covariant matrix):\n",
    "\n",
    "$$\n",
    "\\begin{align*}\n",
    "\\displaystyle \n",
    "\\log(p(x)) &= \\log(\\pi_{k}\\frac{1}{\\sqrt{2\\pi}\\sigma_k}\\exp(-\\frac{1}{2\\sigma_k^2}(x-\\mu_{k})^2))\\\\\n",
    "&= \\log(\\pi_{k}) + \\log(\\frac{1}{\\sqrt{2\\pi}\\sigma_k}) + \\log(\\exp(-\\frac{1}{2\\sigma_k^2}(x-\\mu_{k})^2))\\\\\n",
    "&= \\log(\\pi_{k}) + \\log(\\frac{1}{\\sqrt{2\\pi}\\sigma_k}) -\\frac{1}{2\\sigma_k^2}(x-\\mu_{k})^2\\\\\n",
    "&= \\log(\\pi_{k}) + \\log(\\frac{1}{\\sqrt{2\\pi}\\sigma_k}) -\\frac{x^2}{2\\sigma_k^2} + x\\frac{\\mu_{k}}{2\\sigma_k^2} -\\frac{\\mu_{k}^2}{2\\sigma_k^2}\n",
    "\\end{align*}\n",
    "$$\n",
    "\n",
    "So contrary to exercise 4.2, we can't just get rid of $\\log(\\frac{1}{\\sqrt{2\\pi}\\sigma_k})$ and $\\frac{x^2}{2\\sigma_k^2}$ because they are not constant to all classes.\n",
    "\n",
    "$\\displaystyle \\frac{x^2}{2\\sigma_k^2}$ contains a quadratic variable terms that makes it which makes the whole thing quadratic (non linear)."
   ]
  }
 ],
 "metadata": {
  "language_info": {
   "name": "python"
  },
  "orig_nbformat": 4
 },
 "nbformat": 4,
 "nbformat_minor": 2
}
