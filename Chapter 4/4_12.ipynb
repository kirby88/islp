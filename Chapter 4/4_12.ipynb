{
 "cells": [
  {
   "cell_type": "markdown",
   "metadata": {},
   "source": [
    "# Exercise 12\n",
    "\n",
    "## a.\n",
    "\n",
    "The odds is the probability of $\\displaystyle \\frac{p(x)}{1-p(x)}$, and in our model ($\\displaystyle \\hat{Pr}(Y = orange | X =x) = \\frac{\\exp(\\hat{\\beta_0}+\\hat{\\beta_1}x)}{1+\\exp(\\hat{\\beta_0}+\\hat{\\beta_1}x}$) the odds are equivalent to $\\displaystyle e^{\\beta_0 + \\beta_1X}$. \n",
    "\n",
    "$$\n",
    "\\begin{align*}\n",
    "\\displaystyle\n",
    "\\log(Odds) &= \\log(\\frac{p(x)}{1-p(x)})\\\\\n",
    "&= \\log(\\frac{\\exp(\\hat{\\beta_0}+\\hat{\\beta_1}x)}{1+\\exp(\\hat{\\beta_0}+\\hat{\\beta_1}x)} - \\log(1-\\frac{\\exp(\\hat{\\beta_0}+\\hat{\\beta_1}x)}{1+\\exp(\\hat{\\beta_0}+\\hat{\\beta_1}x})\\\\\n",
    "&= \\log(\\frac{\\exp(\\hat{\\beta_0}+\\hat{\\beta_1}x)}{1+\\exp(\\hat{\\beta_0}+\\hat{\\beta_1}x)} - \\log(\\frac{1+\\exp(\\hat{\\beta_0}+\\hat{\\beta_1}x)-\\exp(\\hat{\\beta_0}+\\hat{\\beta_1}x)}{1+\\exp(\\hat{\\beta_0}+\\hat{\\beta_1}x)})\\\\\n",
    "&= \\log(\\frac{\\exp(\\hat{\\beta_0}+\\hat{\\beta_1}x)}{1+\\exp(\\hat{\\beta_0}+\\hat{\\beta_1}x)} - \\log(\\frac{1}{1+\\exp(\\hat{\\beta_0}+\\hat{\\beta_1}x)})\\\\\n",
    "&= \\log(\\exp(\\hat{\\beta_0}+\\hat{\\beta_1}x)) - \\log(1+\\exp(\\hat{\\beta_0}+\\hat{\\beta_1}x)) - \\log(1) + \\log({1+\\exp(\\hat{\\beta_0}+\\hat{\\beta_1}x)})\\\\\n",
    "&= \\log(\\exp(\\hat{\\beta_0}+\\hat{\\beta_1}x))\\\\\n",
    "&= \\hat{\\beta_0}+\\hat{\\beta_1}x\n",
    "\\end{align*}\n",
    "$$\n",
    "\n",
    "So the log of the odds will be $\\hat{\\beta_0}+\\hat{\\beta_1}x$\n",
    "\n",
    "## b.\n",
    "\n",
    "Our friend's model is $\\displaystyle \\hat{Pr}(Y = orange | X =x) = \\frac{\\exp(\\hat{\\alpha}_{orange0}+\\hat{\\alpha}_{orange1}x)}{\\exp(\\hat{\\alpha}_{orange0}+\\hat{\\alpha}_{orange1}x)+\\exp(\\hat{\\alpha}_{apple0}+\\hat{\\alpha}_{apple1}x)}$\n",
    "\n",
    "And from the equation 4.14 we now that $\\displaystyle \\frac{\\hat{Pr}(Y = orange | X =x)}{\\hat{Pr}(Y = Apple | X =x)} = (\\alpha_{orange0}-\\alpha_{apple0}) + (\\alpha_{orange1}-\\alpha_{apple1})x$\n",
    "\n",
    "## c.\n",
    "\n",
    "From a. and b., we know that $\\beta_0 = (\\alpha_{orange0}-\\alpha_{apple0})$ and that $\\beta_1 = (\\alpha_{orange1}-\\alpha_{apple1})$\n",
    "\n",
    "So if $\\beta_0=2$ it means that $\\alpha_{apple0} = \\alpha_{orange0}-2$  \n",
    "and if $\\beta_1 = -1$, $\\alpha_{apple1} = \\alpha_{orange1}+1$\n",
    "\n",
    "## d.\n",
    "\n",
    "$\n",
    "\\beta_0 = \\alpha_{orange0}-\\alpha_{apple0} = 1.2-3=-1.8\\\\\n",
    "\\beta_1 = \\alpha_{orange1}-\\alpha_{apple1} = -2-0.6=-2.6\\\\\n",
    "$\n",
    "\n",
    "## e.\n",
    "\n",
    "They are equivalent model, just because the value of the coefficients changes it doesn't mean that the predictions will be different.\n"
   ]
  }
 ],
 "metadata": {
  "kernelspec": {
   "display_name": "Python 3",
   "language": "python",
   "name": "python3"
  },
  "language_info": {
   "codemirror_mode": {
    "name": "ipython",
    "version": 3
   },
   "file_extension": ".py",
   "mimetype": "text/x-python",
   "name": "python",
   "nbconvert_exporter": "python",
   "pygments_lexer": "ipython3",
   "version": "3.9.6"
  },
  "orig_nbformat": 4
 },
 "nbformat": 4,
 "nbformat_minor": 2
}
