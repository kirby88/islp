{
 "cells": [
  {
   "cell_type": "markdown",
   "metadata": {},
   "source": [
    "# Exercise 6\n",
    "\n",
    "$X_1$ = hours  \n",
    "$X_2$ = Undergrad GPA  \n",
    "$Y$ = received an A\n",
    "\n",
    "$\\beta_0 = -6$  \n",
    "$\\beta_1 = 0.05$  \n",
    "$\\beta_2 = 1$\n",
    "\n",
    "## a.\n",
    "\n",
    "For $x_1=40$ and $x_2=3.5$:\n",
    "$$\n",
    "\\begin{align*}\n",
    "\\displaystyle \n",
    "p(x) &= \\frac{e^{-6 + 0.05*40 + 3.5}}{1+e^{-6 + 0.05*40 + 3.5}}\\\\\n",
    "\n",
    "&= 0.38\n",
    "\\end{align*}\n",
    "$$\n",
    "\n",
    "The chances for them will be 38%\n",
    "\n",
    "## b.\n",
    "\n",
    "Let's have $X = e^{-6 + 0.05x_1 + x_2}$\n",
    "\n",
    "$$\n",
    "\\begin{align*}\n",
    "\\displaystyle \n",
    "0.5 &= p(x)\\\\\n",
    "0.5 &= \\frac{X}{1+X}\\\\\n",
    "0.5(1+X) &= X\\\\\n",
    "0.5 &= 0.5X\\\\\n",
    "\\log(0.5) &= \\log(0.5) + \\log(X)\\\\\n",
    "0 &= \\log(X)\\\\\n",
    "0 &= -6 + 0.05x_1 + x_2\\\\\n",
    "\\end{align*}\n",
    "$$\n",
    "\n",
    "From a. we have $x_2=3.5$\n",
    "\n",
    "$$\n",
    "\\begin{align*}\n",
    "\\displaystyle \n",
    "0 &= -6 + 0.05x_1 + 3.5\\\\\n",
    "2.5 &= 0.05x_1\\\\\n",
    "x_1 &= 50\\\\\n",
    "\\end{align*}\n",
    "$$\n",
    "\n",
    "This student should study for 50h\n"
   ]
  }
 ],
 "metadata": {
  "kernelspec": {
   "display_name": "Python 3",
   "language": "python",
   "name": "python3"
  },
  "language_info": {
   "codemirror_mode": {
    "name": "ipython",
    "version": 3
   },
   "file_extension": ".py",
   "mimetype": "text/x-python",
   "name": "python",
   "nbconvert_exporter": "python",
   "pygments_lexer": "ipython3",
   "version": "3.9.6"
  },
  "orig_nbformat": 4
 },
 "nbformat": 4,
 "nbformat_minor": 2
}
