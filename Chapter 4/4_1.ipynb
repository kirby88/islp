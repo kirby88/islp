{
 "cells": [
  {
   "cell_type": "markdown",
   "metadata": {},
   "source": [
    "From [4.2](https://hastie.su.domains/ISLP/ISLP_website.pdf#%5B%7B%22num%22%3A1377%2C%22gen%22%3A0%7D%2C%7B%22name%22%3A%22XYZ%22%7D%2C248.89%2C152.73%2Cnull%5D) we now that $\\displaystyle p(x) = \\frac{e^{\\beta_0 + \\beta_1x}}{1 + e^{\\beta_0 + \\beta_1x}}$\n",
    "\n",
    "And we want to prove [4.3](https://hastie.su.domains/ISLP/ISLP_website.pdf#%5B%7B%22num%22%3A1387%2C%22gen%22%3A0%7D%2C%7B%22name%22%3A%22XYZ%22%7D%2C248.89%2C551.87%2Cnull%5D) i.e. $\\displaystyle \\frac{p(x)}{1-p(x)} = e^{\\beta_0 + \\beta_1x}$.\n",
    "\n",
    "First let's have $X = e^{\\beta_0 + \\beta_1x}$ so \n",
    "\n",
    "$\n",
    "\\displaystyle p(x) = \\frac{X}{1 + X}\n",
    "$\n",
    "\n",
    "Here is the proof:\n",
    "$\n",
    "\\displaystyle \\frac{p(x)}{1-p(x)} \\\\\n",
    "= p(x) * \\frac{1}{1-p(x)} \\\\\n",
    "= \\frac{X}{1+X} * \\frac{1}{1-\\frac{X}{1+X}} \\\\\n",
    "= \\frac{X}{1+X} * \\frac{1}{\\frac{1+X-X}{1+X}} \\\\\n",
    "= \\frac{X}{1+X} * \\frac{1}{\\frac{1}{1+X}} \\\\\n",
    "= \\frac{X}{1+X} * 1+X \\\\\n",
    "= X \\\\\n",
    "= e^{\\beta_0 + \\beta_1x}\n",
    "$"
   ]
  }
 ],
 "metadata": {
  "language_info": {
   "name": "python"
  },
  "orig_nbformat": 4
 },
 "nbformat": 4,
 "nbformat_minor": 2
}
