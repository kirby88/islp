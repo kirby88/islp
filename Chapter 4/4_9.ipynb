{
 "cells": [
  {
   "cell_type": "markdown",
   "metadata": {},
   "source": [
    "# Exercise 9\n",
    "\n",
    "## a.\n",
    "\n",
    "$$\n",
    "\\begin{align*}\n",
    "\\displaystyle \n",
    "odds = 0.37 &= \\frac{p(x)}{1-p(x)}\\\\\n",
    "p(x) &= 0.37*(1-p(x))\\\\\n",
    "p(x) &= 0.37-0.37p(x)\\\\\n",
    "1.37p(x) &= 0.37\\\\\n",
    "p(x) &= \\frac{0.37}{1.37} = 0.27\\\\\n",
    "\\end{align*}\n",
    "$$\n",
    "\n",
    "The percentage of people defaulting on their credit card payment is 27%\n",
    "\n",
    "## b.\n",
    "\n",
    "\n",
    "$$\n",
    "\\begin{align*}\n",
    "\\displaystyle \n",
    "odds &= \\frac{p(x)}{1-p(x)}\\\\\n",
    " &= \\frac{0.16}{1-0.16}\\\\\n",
    " &= 0.19\n",
    "\\end{align*}\n",
    "$$\n",
    "\n",
    "The odds will be 0.19"
   ]
  }
 ],
 "metadata": {
  "kernelspec": {
   "display_name": "Python 3",
   "language": "python",
   "name": "python3"
  },
  "language_info": {
   "codemirror_mode": {
    "name": "ipython",
    "version": 3
   },
   "file_extension": ".py",
   "mimetype": "text/x-python",
   "name": "python",
   "nbconvert_exporter": "python",
   "pygments_lexer": "ipython3",
   "version": "3.9.6"
  },
  "orig_nbformat": 4
 },
 "nbformat": 4,
 "nbformat_minor": 2
}
