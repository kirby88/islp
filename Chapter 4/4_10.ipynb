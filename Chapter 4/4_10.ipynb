{
 "cells": [
  {
   "cell_type": "markdown",
   "metadata": {},
   "source": [
    "# Exercise 10\n",
    "\n",
    "$$\n",
    "\\begin{align*}\n",
    "\\displaystyle \n",
    "\\log(\\frac{Pr(Y=k | X=x)}{Pr(Y=K | X=x)}) &= \\log(\\frac{\\pi_kf_k(x)}{\\pi_Kf_K(x)})\\\\\n",
    " &= \\log(\\frac{\\pi_k\\exp(-\\frac{1}{\\sqrt{2\\pi}\\sigma^2}(x-\\mu_k)^2)}{\\pi_K\\exp(-\\frac{1}{\\sqrt{2\\pi}\\sigma^2}(x-\\mu_K)^2)})\\\\\n",
    " &= \\log(\\frac{\\pi_k}{\\pi_K}) - \\frac{1}{\\sqrt{2\\pi}\\sigma^2}(x-\\mu_k)^2 + \\frac{1}{\\sqrt{2\\pi}\\sigma^2}(x-\\mu_K)^2\\\\\n",
    " &= \\log(\\frac{\\pi_k}{\\pi_K}) + \\frac{- x^2 + 2x\\mu_k - \\mu_k^2 + x^2 - 2x\\mu_K + \\mu_K^2}{2\\sigma^2}\\\\\n",
    " &= \\log(\\frac{\\pi_k}{\\pi_K}) + \\frac{1}{2\\sigma^2}(\\mu_K^2-\\mu_k^2) - \\frac{1}{\\sigma^2}(\\mu_k - \\mu_K)x \\\\\n",
    "\\end{align*}\n",
    "$$\n",
    "\n",
    "With $a_k = \\log(\\frac{\\pi_k}{\\pi_K}) + \\frac{1}{2\\sigma^2}(\\mu_K^2-\\mu_k^2)$ and $b_k = \\frac{1}{\\sigma^2}(\\mu_k - \\mu_K)$"
   ]
  }
 ],
 "metadata": {
  "kernelspec": {
   "display_name": "Python 3",
   "language": "python",
   "name": "python3"
  },
  "language_info": {
   "codemirror_mode": {
    "name": "ipython",
    "version": 3
   },
   "file_extension": ".py",
   "mimetype": "text/x-python",
   "name": "python",
   "nbconvert_exporter": "python",
   "pygments_lexer": "ipython3",
   "version": "3.9.6"
  },
  "orig_nbformat": 4
 },
 "nbformat": 4,
 "nbformat_minor": 2
}
