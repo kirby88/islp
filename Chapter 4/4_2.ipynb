{
 "cells": [
  {
   "cell_type": "markdown",
   "metadata": {},
   "source": [
    "# Exercise 2\n",
    "\n",
    "From [4.17](https://hastie.su.domains/ISLP/ISLP_website.pdf#%5B%7B%22num%22%3A1475%2C%22gen%22%3A0%7D%2C%7B%22name%22%3A%22XYZ%22%7D%2C191.09%2C186.01%2Cnull%5D) we can see that the numerator is the only thing that changes when you change the class $k$, the denominator stays the same for every class.\n",
    "\n",
    "So maximizing $p_k({x})$ in that case is really about maximizing the numerator. i.e finding the maximum value for:\n",
    "\n",
    "$$\n",
    "\\displaystyle \\pi_{k}\\frac{1}{\\sqrt{2\\pi}\\sigma}\\exp(-\\frac{1}{2\\sigma^2}(x-\\mu_{k})^2)\n",
    "$$\n",
    "\n",
    "It's said in the book to take the log of $p_k({x})$. As $\\log(A/B) = \\log(A) - \\log(B)$ and we already mentioned that the denominator ($B$) is the same for all classes, so will be $\\log(B)$, we can ignore it. \n",
    "\n",
    "Now this is about finding the maximum value for $\\log(A)$\n",
    "\n",
    "$$\n",
    "\\displaystyle \\log(\\pi_{k}\\frac{1}{\\sqrt{2\\pi}\\sigma}\\exp(-\\frac{1}{2\\sigma^2}(x-\\mu_{k})^2)) = \\log(\\pi_{k}) + \\log(\\frac{1}{\\sqrt{2\\pi}\\sigma}) + \\log(\\exp(-\\frac{1}{2\\sigma^2}(x-\\mu_{k})^2))\n",
    "$$\n",
    "\n",
    "In the linear discriminant case, $\\sigma$ is the same for all classes, so $\\log(\\frac{1}{\\sqrt{2\\pi}\\sigma})$ will also be constant for all classes, and will not help in finding the maximum value, se we can remove it\n",
    "\n",
    "$$\n",
    "\\begin{align*}\n",
    "\\displaystyle \n",
    "&= \\log(\\pi_{k}) + \\log(\\exp(-\\frac{1}{2\\sigma^2}(x-\\mu_{k})^2))\\\\\n",
    "&= \\log(\\pi_{k}) -\\frac{1}{2\\sigma^2}(x-\\mu_{k})^2\\\\\n",
    "&= \\log(\\pi_{k}) -\\frac{x^2}{2\\sigma^2} + x\\frac{\\mu_{k}}{2\\sigma^2} -\\frac{\\mu_{k}^2}{2\\sigma^2}\n",
    "\\end{align*}\n",
    "$$\n",
    "\n",
    "$\\displaystyle \\frac{x^2}{2\\sigma^2}$ is constant for all classes ($x$ values being the same independently of the class, and $\\sigma$ constant) so we can remove this term and we get a term to maximize that is:\n",
    "\n",
    "$$\n",
    "\\displaystyle x\\frac{\\mu_{k}}{2\\sigma^2} -\\frac{\\mu_{k}^2}{2\\sigma^2} + \\log(\\pi_{k})\n",
    "$$\n",
    "\n",
    "Which the definition of $\\delta_k$ in [4.18](https://hastie.su.domains/ISLP/ISLP_website.pdf#%5B%7B%22num%22%3A1493%2C%22gen%22%3A0%7D%2C%7B%22name%22%3A%22XYZ%22%7D%2C227.32%2C423.73%2Cnull%5D)"
   ]
  }
 ],
 "metadata": {
  "language_info": {
   "name": "python"
  },
  "orig_nbformat": 4
 },
 "nbformat": 4,
 "nbformat_minor": 2
}
