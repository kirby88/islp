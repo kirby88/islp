{
 "cells": [
  {
   "cell_type": "markdown",
   "metadata": {},
   "source": [
    "# Exercise 3\n",
    "\n",
    "## a.\n",
    "\n",
    "k-fold is splitting a data set in k parts. So if k=2, it will split the data set in two parts of half the size of the overall set, and if k=n, it will split the data in k parts of size 1.  \n",
    "Once we have these k parts, we combine all of them but one together to create the training set. The one part left out will serve as the validation set.\n",
    "To introduce randomness, I would expect that all the part are not created and not chosen in a predefined sequence but randomly\n",
    "\n",
    "## b.\n",
    "\n",
    "### k-fold vs. validation set\n",
    "\n",
    "* k-fold is more computation itensive for k>2\n",
    "* k-fold will have a higher variance but a smaller bias. The overall MSE will be smaller than the validation set.\n",
    "\n",
    "### k-fold vs. LOOCV\n",
    "\n",
    "* LOOCV is more computation itensive for k<n\n",
    "* k-fold will have a smaller variance but a higher bias. The overall MSE will still be smaller than the validation set depending on the data."
   ]
  }
 ],
 "metadata": {
  "kernelspec": {
   "display_name": "Python 3",
   "language": "python",
   "name": "python3"
  },
  "language_info": {
   "codemirror_mode": {
    "name": "ipython",
    "version": 3
   },
   "file_extension": ".py",
   "mimetype": "text/x-python",
   "name": "python",
   "nbconvert_exporter": "python",
   "pygments_lexer": "ipython3",
   "version": "3.9.6"
  },
  "orig_nbformat": 4
 },
 "nbformat": 4,
 "nbformat_minor": 2
}
