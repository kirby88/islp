{
 "cells": [
  {
   "cell_type": "markdown",
   "metadata": {},
   "source": [
    "# Exercise 1\n",
    "\n",
    "Using the variance identity $Var(X + Y) = \\sigma_{X}^2 + \\sigma_{Y}^2 + 2\\sigma_{XY}$ we get:\n",
    "\n",
    "$$\n",
    "\\begin{align*}\n",
    "\\displaystyle \n",
    "Var(\\alpha X + (1-\\alpha)Y) &= Var(\\alpha X) + Var((1-\\alpha) Y) + 2Cov(\\alpha X, (1-\\alpha) Y)\\\\\n",
    "&= \\alpha^2\\sigma_{X}^2 + (1-\\alpha)^2\\sigma_{Y}^2 + 2\\alpha(1-\\alpha)\\sigma_{XY}\\\\\n",
    "&= \\alpha^2\\sigma_{X}^2 + (1-\\alpha)^2\\sigma_{Y}^2 + 2(\\alpha-\\alpha^2)\\sigma_{XY}\\\\\n",
    "\\end{align*}\n",
    "$$\n",
    "\n",
    "From there, we see that we have a polynomial function of $\\alpha$ of degree 2. Given its quadratic, it has a lower point that is reached when $\\displaystyle \\frac{\\delta}{\\delta_{\\alpha}}f(\\alpha) = 0$.\n",
    "$$\n",
    "\\begin{align*}\n",
    "\\displaystyle \n",
    "0 & = \\frac{\\delta}{\\delta_{\\alpha}}f(\\alpha)\\\\\n",
    " &= \\frac{\\delta}{\\delta_{\\alpha}} (\\alpha^2\\sigma_{X}^2 + (1-\\alpha)^2\\sigma_{Y}^2 + 2(\\alpha-\\alpha^2)\\sigma_{XY})\\\\\n",
    " &= \\frac{\\delta}{\\delta_{\\alpha}}\\alpha^2\\sigma_{X}^2 + \\frac{\\delta}{\\delta_{\\alpha}}(1-\\alpha)^2\\sigma_{Y}^2 + \\frac{\\delta}{\\delta_{\\alpha}}2(\\alpha-\\alpha^2)\\sigma_{XY}\\\\\n",
    " &= 2\\alpha \\sigma_{X}^2 - (2+2\\alpha)\\sigma_{Y}^2 + 2(1-2\\alpha)\\sigma_{XY}\\\\\n",
    " &= 2\\alpha \\sigma_{X}^2 - 2\\sigma_{Y}^2 +2\\alpha\\sigma_{Y}^2 + 2\\sigma_{XY} -4\\alpha\\sigma_{XY}\\\\\n",
    " 2\\sigma_{Y}^2-2\\sigma_{XY} &= \\alpha(2\\sigma_{X}^2 +2\\sigma_{Y}^2 - 4\\sigma_{XY})\\\\\n",
    " \\alpha &= \\frac{2(\\sigma_{Y}^2-\\sigma_{XY})}{2(\\sigma_{X}^2 +\\sigma_{Y}^2 - 2\\sigma_{XY})}\\\\\n",
    " \\alpha &= \\frac{\\sigma_{Y}^2-\\sigma_{XY}}{\\sigma_{X}^2 +\\sigma_{Y}^2 - 2\\sigma_{XY}}\\\\\n",
    "\\end{align*}\n",
    "$$\n"
   ]
  }
 ],
 "metadata": {
  "kernelspec": {
   "display_name": "Python 3",
   "language": "python",
   "name": "python3"
  },
  "language_info": {
   "codemirror_mode": {
    "name": "ipython",
    "version": 3
   },
   "file_extension": ".py",
   "mimetype": "text/x-python",
   "name": "python",
   "nbconvert_exporter": "python",
   "pygments_lexer": "ipython3",
   "version": "3.9.6"
  },
  "orig_nbformat": 4
 },
 "nbformat": 4,
 "nbformat_minor": 2
}
